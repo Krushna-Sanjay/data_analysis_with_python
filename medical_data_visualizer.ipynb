{
 "cells": [
  {
   "cell_type": "code",
   "execution_count": 19,
   "id": "66b9daa6-f1c4-4407-9de1-91e72aa31bb1",
   "metadata": {},
   "outputs": [],
   "source": [
    "import pandas as pd\n",
    "import numpy as np\n",
    "import matplotlib.pyplot as plt\n",
    "import seaborn as sns"
   ]
  },
  {
   "cell_type": "code",
   "execution_count": 33,
   "id": "38b8530b-e72e-475f-8ffc-6147f45e51ca",
   "metadata": {},
   "outputs": [
    {
     "name": "stdout",
     "output_type": "stream",
     "text": [
      "   id    age  gender  height  weight  ap_hi  ap_lo  cholesterol  gluc  smoke  \\\n",
      "0   0  18393       2     168    62.0    110     80            1     1      0   \n",
      "1   1  20228       1     156    85.0    140     90            3     1      0   \n",
      "2   2  18857       1     165    64.0    130     70            3     1      0   \n",
      "3   3  17623       2     169    82.0    150    100            1     1      0   \n",
      "4   4  17474       1     156    56.0    100     60            1     1      0   \n",
      "\n",
      "   alco  active  cardio  \n",
      "0     0       1       0  \n",
      "1     0       1       1  \n",
      "2     0       0       1  \n",
      "3     0       1       1  \n",
      "4     0       0       0  \n"
     ]
    }
   ],
   "source": [
    "df = pd.read_csv('medical_examination.csv')\n",
    "print(df.head())"
   ]
  },
  {
   "cell_type": "code",
   "execution_count": 23,
   "id": "34ec34e8-a2bc-494e-8313-6bd10eaf6038",
   "metadata": {},
   "outputs": [
    {
     "name": "stdout",
     "output_type": "stream",
     "text": [
      "0        0\n",
      "1        0\n",
      "2        0\n",
      "3        0\n",
      "4        0\n",
      "        ..\n",
      "69995    0\n",
      "69996    0\n",
      "69997    0\n",
      "69998    0\n",
      "69999    0\n",
      "Name: overweight, Length: 70000, dtype: int32\n"
     ]
    }
   ],
   "source": [
    "bmi = df['weight'] / ((df['height'] *100) ** 2)\n",
    "df['overweight'] = (bmi>25).astype(int)\n",
    "\n",
    "print(df['overweight'])"
   ]
  },
  {
   "cell_type": "code",
   "execution_count": 25,
   "id": "4188e410-94f2-4259-93e9-c809f2446c72",
   "metadata": {},
   "outputs": [
    {
     "name": "stdout",
     "output_type": "stream",
     "text": [
      "0        0\n",
      "1        1\n",
      "2        1\n",
      "3        0\n",
      "4        0\n",
      "        ..\n",
      "69995    0\n",
      "69996    1\n",
      "69997    1\n",
      "69998    0\n",
      "69999    1\n",
      "Name: cholesterol, Length: 70000, dtype: int32\n"
     ]
    }
   ],
   "source": [
    "df['cholesterol'] = (df['cholesterol'] > 1).astype(int)\n",
    "df['gluc'] = (df['gluc'] > 1).astype(int)\n",
    "print(df['cholesterol'])"
   ]
  },
  {
   "cell_type": "code",
   "execution_count": 27,
   "id": "45fb922d-6848-4cd0-9d24-7490ec99e499",
   "metadata": {},
   "outputs": [
    {
     "data": {
      "text/plain": [
       "0        0\n",
       "1        0\n",
       "2        0\n",
       "3        0\n",
       "4        0\n",
       "        ..\n",
       "69995    0\n",
       "69996    1\n",
       "69997    0\n",
       "69998    1\n",
       "69999    0\n",
       "Name: gluc, Length: 70000, dtype: int32"
      ]
     },
     "execution_count": 27,
     "metadata": {},
     "output_type": "execute_result"
    }
   ],
   "source": [
    "df['gluc']"
   ]
  },
  {
   "cell_type": "code",
   "execution_count": 29,
   "id": "12a49eec-9349-4a94-b203-387b2d9999b4",
   "metadata": {},
   "outputs": [],
   "source": [
    "def draw_cat_plot():\n",
    "    df_cat = pd.melt(df, id_vars=['cardio'], value_vars=['cholesterol', 'gluc', 'smoke', 'alco', 'active', 'overweight'])\n"
   ]
  },
  {
   "cell_type": "code",
   "execution_count": null,
   "id": "6a714135-f3c1-4bb3-9c63-aa8b5024792f",
   "metadata": {},
   "outputs": [],
   "source": []
  },
  {
   "cell_type": "code",
   "execution_count": null,
   "id": "19af393a-b7f8-46bf-a356-e182a7ba88fd",
   "metadata": {},
   "outputs": [],
   "source": []
  }
 ],
 "metadata": {
  "kernelspec": {
   "display_name": "Python 3 (ipykernel)",
   "language": "python",
   "name": "python3"
  },
  "language_info": {
   "codemirror_mode": {
    "name": "ipython",
    "version": 3
   },
   "file_extension": ".py",
   "mimetype": "text/x-python",
   "name": "python",
   "nbconvert_exporter": "python",
   "pygments_lexer": "ipython3",
   "version": "3.12.7"
  }
 },
 "nbformat": 4,
 "nbformat_minor": 5
}
