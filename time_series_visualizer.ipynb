{
 "cells": [
  {
   "cell_type": "code",
   "execution_count": null,
   "id": "21777aa2-4cd8-4b97-b754-9414462b87fb",
   "metadata": {},
   "outputs": [
    {
     "ename": "",
     "evalue": "",
     "output_type": "error",
     "traceback": [
      "\u001b[1;31mRunning cells with 'Python 3.12.9' requires the ipykernel package.\n",
      "\u001b[1;31mRun the following command to install 'ipykernel' into the Python environment. \n",
      "\u001b[1;31mCommand: 'c:/Users/KRUSHNA/AppData/Local/Microsoft/WindowsApps/python3.12.exe -m pip install ipykernel -U --user --force-reinstall'"
     ]
    }
   ],
   "source": [
    "import matplotlib.pyplot as plt\n",
    "import pandas as pd\n",
    "import seaborn as sns\n",
    "import numpy as np"
   ]
  },
  {
   "cell_type": "code",
   "execution_count": null,
   "id": "2aaccbb0-1795-47b0-a525-9c00e0f7e9e3",
   "metadata": {},
   "outputs": [],
   "source": [
    "df = pd.read_csv('fcc-forum-pageviews.csv', index_col='date', parse_dates=True)\n",
    "print(df.head())"
   ]
  },
  {
   "cell_type": "code",
   "execution_count": null,
   "id": "ba954f4b-74aa-4546-b676-1dd85dd16582",
   "metadata": {},
   "outputs": [],
   "source": [
    "df = df[(df['value'] >= df['value'].quantile(0.025)) & (df['value'] <= df['value'].quantile(0.975))]\n",
    "df.head()"
   ]
  },
  {
   "cell_type": "code",
   "execution_count": null,
   "id": "d1e9ef02-c985-45aa-ba71-7cb5ab848733",
   "metadata": {},
   "outputs": [],
   "source": [
    "def draw_line_plot():\n",
    "    plt.figure(figsize=(10,5))\n",
    "    plt.plot(df.index, df['value'], color='green', linewidth='1')\n",
    "    plt.title('Daily freeCodeCamp Forum Page Views 5/2016-12/2019')\n",
    "    plt.xlabel('Date')\n",
    "    plt.ylabel('Page Views')\n",
    "    plt.grid(True)\n",
    "    plt.show()\n",
    "\n",
    "\n",
    "draw_line_plot()"
   ]
  },
  {
   "cell_type": "code",
   "execution_count": null,
   "id": "8ed458f3-6116-487b-96f9-c749720e2129",
   "metadata": {},
   "outputs": [],
   "source": []
  },
  {
   "cell_type": "code",
   "execution_count": null,
   "id": "97da08f1-bd64-41c5-8693-ddbc327a6d83",
   "metadata": {},
   "outputs": [],
   "source": [
    "def draw_bar_plot():\n",
    "    df_bar = df.copy()\n",
    "    df_bar['Month'] = df_bar.index.month\n",
    "    df_bar['Year'] = df_bar.index.year\n",
    "\n",
    "    df_grouped = df_bar.groupby([\"Year\", \"Month\"])[\"value\"].mean().unstack()\n",
    "    \n",
    "    df_grouped.plot(kind='bar', figsize=(10,5), colormap='viridis')\n",
    "    plt.title(\"Monthly Average Page Views per Year\")\n",
    "    plt.xlabel('Years')\n",
    "    plt.ylabel('Average Page Views')\n",
    "    plt.grid(True)\n",
    "    plt.legend(title=\"Months\", labels=[\"Jan\", \"Feb\", \"Mar\", \"Apr\", \"May\", \"Jun\", \n",
    "                                       \"Jul\", \"Aug\", \"Sep\", \"Oct\", \"Nov\", \"Dec\"])\n",
    "    plt.show()\n",
    "\n",
    "\n",
    "draw_bar_plot()"
   ]
  },
  {
   "cell_type": "code",
   "execution_count": null,
   "id": "2ee585cd-9c5b-4ef2-a3ea-b23d027393aa",
   "metadata": {},
   "outputs": [],
   "source": []
  },
  {
   "cell_type": "code",
   "execution_count": null,
   "id": "e1aa9abd-30ca-43ac-8a61-2903d16a52b6",
   "metadata": {},
   "outputs": [],
   "source": [
    "def draw_box_plot():\n",
    "    df_box = df.copy()\n",
    "    df_box['Year'] = df_box.index.year\n",
    "    df_box['Month'] = df_box.index.strftime('%b')\n",
    "\n",
    "    fig, axes = plt.subplots(1, 2, figsize=(14,6))\n",
    "    sns.boxplot(x='Year', y='value', data=df_box, ax=axes[0], palette=\"bright\")\n",
    "    axes[0].set_title(\"Year-wise Box Plot (Trend)\")\n",
    "    axes[0].set_xlabel(\"Year\")\n",
    "    axes[0].set_ylabel(\"Page Views\")\n",
    "\n",
    "    months_order = [\"Jan\", \"Feb\", \"Mar\", \"Apr\", \"May\", \"Jun\", \n",
    "                    \"Jul\", \"Aug\", \"Sep\", \"Oct\", \"Nov\", \"Dec\"]\n",
    "    sns.boxplot(x='Month', y='value', data=df_box, ax=axes[1], order=months_order, palette='plasma')\n",
    "    axes[1].set_title(\"Month-wise Box Plot (Trend)\")\n",
    "    axes[1].set_xlabel(\"Month\")\n",
    "    axes[1].set_ylabel(\"Page Views\")\n",
    "    plt.show()\n",
    "\n",
    "\n",
    "draw_box_plot()"
   ]
  },
  {
   "cell_type": "code",
   "execution_count": null,
   "id": "f5bdfe19-4c7f-47b0-ae75-0ece9e8db7a5",
   "metadata": {},
   "outputs": [],
   "source": []
  }
 ],
 "metadata": {
  "kernelspec": {
   "display_name": "Python 3",
   "language": "python",
   "name": "python3"
  },
  "language_info": {
   "codemirror_mode": {
    "name": "ipython",
    "version": 3
   },
   "file_extension": ".py",
   "mimetype": "text/x-python",
   "name": "python",
   "nbconvert_exporter": "python",
   "pygments_lexer": "ipython3",
   "version": "3.12.9"
  }
 },
 "nbformat": 4,
 "nbformat_minor": 5
}
