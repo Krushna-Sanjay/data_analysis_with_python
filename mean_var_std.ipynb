{
 "cells": [
  {
   "cell_type": "code",
   "execution_count": 1,
   "id": "d0e35a4f-fcf9-4c30-87b3-8111bbf3b07d",
   "metadata": {},
   "outputs": [],
   "source": [
    "import pandas as pd\n",
    "import numpy as np\n",
    "import os"
   ]
  },
  {
   "cell_type": "code",
   "execution_count": 22,
   "id": "d499cf99-de04-441c-8e11-5294cd008b40",
   "metadata": {},
   "outputs": [
    {
     "name": "stdout",
     "output_type": "stream",
     "text": [
      "{'mean': [[3.0, 4.0, 5.0], [1.0, 4.0, 7.0], 4.0], 'variance': [[6.0, 6.0, 6.0], [0.6666666666666666, 0.6666666666666666, 0.6666666666666666], 6.666666666666667], 'standard deviation': [[2.449489742783178, 2.449489742783178, 2.449489742783178], [0.816496580927726, 0.816496580927726, 0.816496580927726], 2.581988897471611], 'max': [[6, 7, 8], [2, 5, 8], 8], 'min': [[0, 1, 2], [0, 3, 6], 0], 'sum': [[9, 12, 15], [3, 12, 21], 36]}\n"
     ]
    }
   ],
   "source": [
    "ls = [0,1,2,3,4,5,6,7,8]\n",
    "\n",
    "def calculate(ls):\n",
    "    if len(ls) != 9:\n",
    "        raise ValueError('List must contain 9 numbers')\n",
    "\n",
    "    matrix = np.array(ls).reshape(3, 3)\n",
    "\n",
    "    dict = {\n",
    "        'mean' : [matrix.mean(axis=0).tolist(), matrix.mean(axis=1).tolist(), matrix.mean().tolist()],\n",
    "        'variance' : [matrix.var(axis=0).tolist(), matrix.var(axis=1).tolist(), matrix.var().tolist()],\n",
    "        'standard deviation' : [matrix.std(axis=0).tolist(), matrix.std(axis=1).tolist(), matrix.std().tolist()],\n",
    "        'max' : [matrix.max(axis=0).tolist(), matrix.max(axis=1).tolist(), matrix.max().tolist()],\n",
    "        'min' : [matrix.min(axis=0).tolist(), matrix.min(axis=1).tolist(), matrix.min().tolist()],\n",
    "        'sum' : [matrix.sum(axis=0).tolist(), matrix.sum(axis=1).tolist(), matrix.sum().tolist()],   \n",
    "    }\n",
    "\n",
    "    return dict\n",
    "\n",
    "print(calculate(ls))\n"
   ]
  },
  {
   "cell_type": "code",
   "execution_count": null,
   "id": "e6134f1e-e2c8-4ae4-98fb-c682acd3a95b",
   "metadata": {},
   "outputs": [],
   "source": []
  },
  {
   "cell_type": "code",
   "execution_count": null,
   "id": "ccabb276-cbc4-4cbf-a654-a598719efba3",
   "metadata": {},
   "outputs": [],
   "source": []
  }
 ],
 "metadata": {
  "kernelspec": {
   "display_name": "Python 3 (ipykernel)",
   "language": "python",
   "name": "python3"
  },
  "language_info": {
   "codemirror_mode": {
    "name": "ipython",
    "version": 3
   },
   "file_extension": ".py",
   "mimetype": "text/x-python",
   "name": "python",
   "nbconvert_exporter": "python",
   "pygments_lexer": "ipython3",
   "version": "3.12.7"
  }
 },
 "nbformat": 4,
 "nbformat_minor": 5
}
