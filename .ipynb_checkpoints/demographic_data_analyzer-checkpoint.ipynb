{
 "cells": [
  {
   "cell_type": "code",
   "execution_count": 38,
   "id": "6f81b3c6-3dfc-4b44-84f7-0c3e4c9df5af",
   "metadata": {},
   "outputs": [],
   "source": [
    "import pandas as pd\n",
    "import numpy as np\n",
    "import matplotlib.pyplot as plt"
   ]
  },
  {
   "cell_type": "code",
   "execution_count": 67,
   "id": "884cdc36-d457-4d0c-945b-b2310d8309e0",
   "metadata": {},
   "outputs": [
    {
     "name": "stdout",
     "output_type": "stream",
     "text": [
      "   age workclass  fnlwgt     education  education.num marital.status  \\\n",
      "0   90         ?   77053       HS-grad              9        Widowed   \n",
      "1   82   Private  132870       HS-grad              9        Widowed   \n",
      "2   66         ?  186061  Some-college             10        Widowed   \n",
      "3   54   Private  140359       7th-8th              4       Divorced   \n",
      "4   41   Private  264663  Some-college             10      Separated   \n",
      "\n",
      "          occupation   relationship   race     sex  capital.gain  \\\n",
      "0                  ?  Not-in-family  White  Female             0   \n",
      "1    Exec-managerial  Not-in-family  White  Female             0   \n",
      "2                  ?      Unmarried  Black  Female             0   \n",
      "3  Machine-op-inspct      Unmarried  White  Female             0   \n",
      "4     Prof-specialty      Own-child  White  Female             0   \n",
      "\n",
      "   capital.loss  hours.per.week native.country income  \n",
      "0          4356              40  United-States  <=50K  \n",
      "1          4356              18  United-States  <=50K  \n",
      "2          4356              40  United-States  <=50K  \n",
      "3          3900              40  United-States  <=50K  \n",
      "4          3900              40  United-States  <=50K  \n"
     ]
    }
   ],
   "source": [
    "df = pd.read_csv('adult.csv')\n",
    "print(df.head())"
   ]
  },
  {
   "cell_type": "code",
   "execution_count": 69,
   "id": "d4c96b3c-7e24-4124-9a28-812f69a496ea",
   "metadata": {},
   "outputs": [
    {
     "name": "stdout",
     "output_type": "stream",
     "text": [
      "<class 'pandas.core.frame.DataFrame'>\n",
      "RangeIndex: 32561 entries, 0 to 32560\n",
      "Data columns (total 15 columns):\n",
      " #   Column          Non-Null Count  Dtype \n",
      "---  ------          --------------  ----- \n",
      " 0   age             32561 non-null  int64 \n",
      " 1   workclass       32561 non-null  object\n",
      " 2   fnlwgt          32561 non-null  int64 \n",
      " 3   education       32561 non-null  object\n",
      " 4   education.num   32561 non-null  int64 \n",
      " 5   marital.status  32561 non-null  object\n",
      " 6   occupation      32561 non-null  object\n",
      " 7   relationship    32561 non-null  object\n",
      " 8   race            32561 non-null  object\n",
      " 9   sex             32561 non-null  object\n",
      " 10  capital.gain    32561 non-null  int64 \n",
      " 11  capital.loss    32561 non-null  int64 \n",
      " 12  hours.per.week  32561 non-null  int64 \n",
      " 13  native.country  32561 non-null  object\n",
      " 14  income          32561 non-null  object\n",
      "dtypes: int64(6), object(9)\n",
      "memory usage: 3.7+ MB\n"
     ]
    }
   ],
   "source": [
    "df.info()"
   ]
  },
  {
   "cell_type": "code",
   "execution_count": 43,
   "id": "b375a31f-32f1-4020-be15-36cfdcfc5453",
   "metadata": {},
   "outputs": [
    {
     "name": "stdout",
     "output_type": "stream",
     "text": [
      "race\n",
      "White                 27816\n",
      "Black                  3124\n",
      "Asian-Pac-Islander     1039\n",
      "Amer-Indian-Eskimo      311\n",
      "Other                   271\n",
      "Name: count, dtype: int64\n"
     ]
    }
   ],
   "source": [
    "race_count = df['race'].value_counts()\n",
    "print(race_count)"
   ]
  },
  {
   "cell_type": "code",
   "execution_count": 45,
   "id": "40d7674e-b531-4f35-8c77-0de447e4926a",
   "metadata": {},
   "outputs": [
    {
     "name": "stdout",
     "output_type": "stream",
     "text": [
      "39.43354749885268\n"
     ]
    }
   ],
   "source": [
    "avg_age_men = df.loc[df['sex']=='Male', 'age'].mean()\n",
    "print(avg_age_men)"
   ]
  },
  {
   "cell_type": "code",
   "execution_count": 107,
   "id": "4e4088da-fe3e-426c-bbec-4b092f4f4c27",
   "metadata": {},
   "outputs": [
    {
     "name": "stdout",
     "output_type": "stream",
     "text": [
      "16.4 %\n"
     ]
    }
   ],
   "source": [
    "per_bachelor = (df['education'] == 'Bachelors').mean() *100\n",
    "print(round(per_bachelor, 1), \"%\")"
   ]
  },
  {
   "cell_type": "code",
   "execution_count": 109,
   "id": "9ea2765d-0663-4506-b3d5-22f452aa8844",
   "metadata": {},
   "outputs": [
    {
     "name": "stdout",
     "output_type": "stream",
     "text": [
      "46.5 %\n"
     ]
    }
   ],
   "source": [
    "advanced_edu = df['education'].isin(['Bachelors', 'Masters', 'Doctorate'])\n",
    "a = (df[advanced_edu]['income'] == '>50K').mean()*100\n",
    "print(round(a, 1), \"%\")"
   ]
  },
  {
   "cell_type": "code",
   "execution_count": 111,
   "id": "344c00a2-64f6-4a5c-b34a-f04a8d349c7a",
   "metadata": {},
   "outputs": [
    {
     "name": "stdout",
     "output_type": "stream",
     "text": [
      "17.4 %\n"
     ]
    }
   ],
   "source": [
    "lower_edu = ~advanced_edu\n",
    "b = (df[lower_edu]['income'] == '>50K').mean()*100\n",
    "print(round(b, 1), \"%\")"
   ]
  },
  {
   "cell_type": "code",
   "execution_count": 59,
   "id": "23037d51-136f-46de-a577-34782438a04b",
   "metadata": {},
   "outputs": [
    {
     "name": "stdout",
     "output_type": "stream",
     "text": [
      "1\n"
     ]
    }
   ],
   "source": [
    "min_hours = df['hours.per.week'].min()\n",
    "print(min_hours)"
   ]
  },
  {
   "cell_type": "code",
   "execution_count": 123,
   "id": "4c64b2ad-ca41-41ea-85f1-a25d170a1e61",
   "metadata": {},
   "outputs": [
    {
     "name": "stdout",
     "output_type": "stream",
     "text": [
      "10.0 %\n"
     ]
    }
   ],
   "source": [
    "num_min_workers = df[df['hours.per.week'] == min_hours]\n",
    "x = (num_min_workers['income'] == '>50K').mean()*100\n",
    "print(x,\"%\")"
   ]
  },
  {
   "cell_type": "code",
   "execution_count": 159,
   "id": "e7892097-e60f-4c55-8393-99a6d409730b",
   "metadata": {},
   "outputs": [
    {
     "name": "stdout",
     "output_type": "stream",
     "text": [
      "Iran 41.9\n"
     ]
    }
   ],
   "source": [
    "# Step 1 & 2: Count total people per country\n",
    "total_people = df.groupby(\"native.country\")[\"income\"].count()\n",
    "\n",
    "# Step 3: Count people earning >50K per country\n",
    "rich_people = df[df[\"income\"] == \">50K\"].groupby(\"native.country\")[\"income\"].count()\n",
    "\n",
    "# Step 4: Calculate percentage (avoid division errors)\n",
    "percentage_rich = (rich_people / total_people * 100).fillna(0)\n",
    "\n",
    "# Step 5: Find the country with the highest percentage\n",
    "highest_earning_country = percentage_rich.idxmax()\n",
    "highest_earning_country_percentage = round(percentage_rich.max(), 1)\n",
    "\n",
    "print(highest_earning_country, highest_earning_country_percentage)"
   ]
  },
  {
   "cell_type": "code",
   "execution_count": 147,
   "id": "be467796-fab7-4668-88ca-bc7da65c7d67",
   "metadata": {},
   "outputs": [
    {
     "name": "stdout",
     "output_type": "stream",
     "text": [
      "Prof-specialty\n"
     ]
    }
   ],
   "source": [
    "india_high_earners = df[(df['native.country'] == 'India') & (df['income'] == '>50K')]\n",
    "popular_occ = india_high_earners['occupation'].value_counts().idxmax()\n",
    "print(popular_occ)"
   ]
  },
  {
   "cell_type": "code",
   "execution_count": null,
   "id": "2baa3cc3-ec5a-4bce-bc06-845cdddc9fa0",
   "metadata": {},
   "outputs": [],
   "source": []
  }
 ],
 "metadata": {
  "kernelspec": {
   "display_name": "Python 3 (ipykernel)",
   "language": "python",
   "name": "python3"
  },
  "language_info": {
   "codemirror_mode": {
    "name": "ipython",
    "version": 3
   },
   "file_extension": ".py",
   "mimetype": "text/x-python",
   "name": "python",
   "nbconvert_exporter": "python",
   "pygments_lexer": "ipython3",
   "version": "3.12.7"
  }
 },
 "nbformat": 4,
 "nbformat_minor": 5
}
